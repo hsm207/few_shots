{
 "cells": [
  {
   "cell_type": "markdown",
   "metadata": {},
   "source": [
    "In this notebook we write an implementation of the awesome paper Few-Shot Learning Through an Information Retrieval Lens by [Eleni Triantafillou](http://www.cs.toronto.edu/~eleni/), [Richard Zemel](http://www.cs.toronto.edu/~zemel/inquiry/home.php), and [http://www.cs.toronto.edu/~urtasun/]. \n",
    "\n",
    "First of all, the implementation associated to the paper is already public in [Eleni's github repo](https://github.com/eleniTriantafillou/few_shot_mAP_public). It is clearly written and the goal here would be to break it down into different parts and use PyTorch instead of Tensorflow. I will also comment a little bit about the reasons (as I understand them) for some of their decisions. \n",
    "\n",
    "I welcome feedback and comments."
   ]
  },
  {
   "cell_type": "markdown",
   "metadata": {},
   "source": [
    "# Few-shot learning\n",
    "\n",
    "Few shots learning, or more precisely,$K$-shot $N$-way classification is the task of classifying a data point into $N$-classes when only $K$-examples of each class are available to make the decision. \n",
    "\n",
    "So our goal, and the goal of the paper, is to build a new model to tackle the problem of learning from few samples. The main idea, as described in the paper, is to \"...extract as much information as possible from each training batch.\" \n",
    "\n",
    "In order to accomplish the goal each data point will be understood as a query that ranks the remaining ones basted on its predicted relevance. \n",
    "\n",
    "We collect the relevant definitions."
   ]
  },
  {
   "cell_type": "markdown",
   "metadata": {},
   "source": [
    "---\n",
    "\n",
    "**Mean Average Precision (mAP):** Given a collection of data points $\\chi=\\{x_1,\\ldots,x_n\\}$ with associated classes $c_1,\\ldots,c_n$ (no necessarily distinct). Let $\\mathcal{B} \\subset \\chi $ be a batch. The set Rel$^{x_i}$ consist of all the elements on the batch that have the same class as $x_i$ and after ranking them with respect to how relevant they are to $x_i$ we obtain an ordered list $O^{x_i}$ (with smallest indexes been more relevant), we compute\n",
    "\n",
    "$$AP^{x_i}= \\sum_j \\frac{\\left|\\{k\\leq j \\colon O^{x_i}[k]\\in Rel^{x_i}\\}\\right|}{j*\\left|Rel^{x_i}\\right|}$$  \n",
    "\n",
    "where the sum runs over those $j$ such that $x_j \\in \\mathcal{B}$ and $O^{x_i}[j] \\in Rel^{x_i}$. That is, $AP^{x_i}$ is just the average among the precisions on the ranking associated to $x_i$. In particular, this attains the largest value if the ranking is perfect, in which case we would have $AP^{x_i}=1$.\n",
    "\n",
    "When we run this over all the elements of the batch we obtain the mean Average Precision, that is \n",
    "\n",
    "$$mAP = \\frac{1}{|\\mathcal{B}|} \\sum_{x_i \\in \\mathcal{B}}AP^{x_i}.$$\n",
    "\n"
   ]
  },
  {
   "cell_type": "markdown",
   "metadata": {},
   "source": [
    "--- \n",
    "\n",
    "Our goal then is to optimize \n",
    "\n",
    "**Structural Support Vector Machines (SSVM):** This measure is slightly more involved. We need an scoring function $F(x,y;w)$ that depends on the inputs x, the outputs y, and some parameters/weights $w$. We also need a loss $L(y_{GT},\\hat{y})$ which compares the ground truth values $y_{GT}$ with the predicted values $\\hat{y}$. Then the margin-rescaled SSVM has as goal to find the weights that minimize the expresion \n",
    "\n",
    "$$\\mathbb{E}[\\max_{\\hat{y}} \\{ L(y_{GT},\\hat{y}) - F(x,y_{GT};w) +F(x,\\hat{y};w)\\}]$$\n",
    "\n",
    "\n"
   ]
  },
  {
   "cell_type": "markdown",
   "metadata": {},
   "source": [
    "There's another method that directly optimizes the task loss of interest, this is a little more involved, we omit the details and only say that it is called DLM (Direct Loss Minimization) "
   ]
  },
  {
   "cell_type": "markdown",
   "metadata": {},
   "source": [
    "# The data \n",
    "\n",
    "We use the omniglot dataset which can be obtained [here](https://github.com/brendenlake/omniglot) [1]. It consists on  1623 different handwritten characters from 50 alphabets. There are 20 samples for each character.\n",
    "For our purposes we have placed the data contained in the python folder of the omniglot repository inside a folder called omniglot.\n",
    "\n",
    "A huge part of the process will be to deal with the preprocessing of the dataset. We have the following steps:\n",
    "\n",
    "- Indexing.\n",
    "- Rotating.\n",
    "- Selecting.\n",
    "- separating.\n",
    "\n",
    "Let's start this process by creating a constant to hold the path to the dataset."
   ]
  },
  {
   "cell_type": "code",
   "execution_count": 1,
   "metadata": {
    "collapsed": true
   },
   "outputs": [],
   "source": [
    "OMNIGLOT_FOlDER=\"./data/omniglot/\""
   ]
  },
  {
   "cell_type": "markdown",
   "metadata": {},
   "source": [
    "We next use the system utilities via the OS module to create a dictionary mapping the index of each training image to its location on the disk. We do this for the train dataset, the validation dataset and the testing dataset."
   ]
  },
  {
   "cell_type": "code",
   "execution_count": 2,
   "metadata": {
    "code_folding": [
     2
    ],
    "collapsed": true
   },
   "outputs": [],
   "source": [
    "import os\n",
    "import numpy as np\n",
    "def load_dataset():\n",
    "    \n",
    "    #Initialize the dicts\n",
    "    \n",
    "    images_train_dic={}\n",
    "    labels_train=[]\n",
    "    \n",
    "    images_val_dic={}\n",
    "    labels_val=[]\n",
    "    \n",
    "    images_test_dic={}\n",
    "    labels_test=[]\n",
    "    \n",
    "    #Get the list of classes for train\n",
    "    with open(\"./data/dataset_splits/omniglot/train.txt\") as f:\n",
    "        train_classes = [line.strip() for line in f]\n",
    "    \n",
    "    #Get the list of classes for val\n",
    "    with open(\"./data/dataset_splits/omniglot/val.txt\") as f:\n",
    "        val_classes = [line.strip() for line in f]\n",
    "        \n",
    "    #Get the list of classes for test\n",
    "    with open(\"./data/dataset_splits/omniglot/test.txt\") as f:\n",
    "        test_classes = [line.strip() for line in f]\n",
    "            \n",
    "    \n",
    "    # We will go over all the images. The classes are given by \n",
    "    # the name of the alphabet and folder the image is contain in.\n",
    "    \n",
    "    #Initialized the indexes\n",
    "    index_train = 0\n",
    "    index_val = 0\n",
    "    index_test =0\n",
    "    num_classes = -1\n",
    "    \n",
    "    for c in train_classes+val_classes+test_classes:\n",
    "        \n",
    "        num_classes +=1\n",
    "        \n",
    "        # c looks like alphabetName/character\n",
    "        # so we get the alphabet out of it.\n",
    "        alphabet,char = c.split(\"/\")\n",
    "        \n",
    "        # As there are two folders we need to decide\n",
    "        # to which folder the alphabet belongs to.\n",
    "        \n",
    "        if os.path.isdir(\"./data/omniglot/images_background/\"+alphabet):\n",
    "            alphabet_path = \"./data/omniglot/images_background/\"+alphabet\n",
    "        \n",
    "        elif os.path.isdir(\"./data/omniglot/images_evaluation/\"+alphabet):\n",
    "            alphabet_path = \"./data/omniglot/images_evaluation/\"+alphabet\n",
    "        \n",
    "        else:\n",
    "            print(\"No such alphabet\")\n",
    "        \n",
    "        # Next we collect the images in the folder\n",
    "        \n",
    "        for img in os.listdir(alphabet_path+\"/\"+char):\n",
    "            image_location = alphabet_path+\"/\"+char+\"/\"+img\n",
    "            \n",
    "            if c in train_classes:\n",
    "                images_train_dic[index_train]=image_location\n",
    "                index_train+=1\n",
    "                labels_train.append(c)\n",
    "            \n",
    "            elif c in val_classes:\n",
    "                images_val_dic[index_val]=image_location\n",
    "                index_val+=1\n",
    "                labels_val.append(c)\n",
    "                \n",
    "            elif c in test_classes:\n",
    "                images_test_dic[index_test]=image_location\n",
    "                index_test+=1\n",
    "                labels_test.append(c)\n",
    "            else:\n",
    "                print(\"class not found\")\n",
    "        \n",
    "    #We collect some informative data.    \n",
    "    print(\"There are %d classes\"%num_classes)\n",
    "    print(\"There are %d training images in %d classes\"%\\\n",
    "          (len(images_train_dic),len(set(labels_train))))\n",
    "    print(\"There are %d validation images in %d classes\"%\\\n",
    "          (len(images_val_dic),len(set(labels_val))))\n",
    "    print(\"There are %d test images in %d classes\"%\\\n",
    "          (len(images_test_dic),len(set(labels_test))))\n",
    "    \n",
    "    return images_train_dic, np.array(labels_train), images_val_dic, \\\n",
    "        np.array(labels_val),images_test_dic,np.array(labels_test)         \n",
    "    "
   ]
  },
  {
   "cell_type": "markdown",
   "metadata": {},
   "source": [
    "And we obtained the data."
   ]
  },
  {
   "cell_type": "code",
   "execution_count": 3,
   "metadata": {},
   "outputs": [
    {
     "name": "stdout",
     "output_type": "stream",
     "text": [
      "There are 1622 classes\n",
      "There are 14400 training images in 720 classes\n",
      "There are 9600 validation images in 480 classes\n",
      "There are 8460 test images in 423 classes\n"
     ]
    }
   ],
   "source": [
    "images_train_dic, labels_train, images_val_dic,\\\n",
    "labels_val,images_test_dic,labels_test=load_dataset()"
   ]
  },
  {
   "cell_type": "markdown",
   "metadata": {},
   "source": [
    "Now that we have access to the data, we should learn how to create the batches. But we need to be careful when doing this, since we depend on two parameters, we want to be able to choose the choose a batch_size, but we also want to assure that the points chosen belong to a certain number of classes. We also need to know for which of the datasets (train, val, test) we are getting the data from, we use the split variable to indicate this. The following method will allow us to do just that. \n",
    "\n",
    "Note that a batch consists on images associated to a list of random characters."
   ]
  },
  {
   "cell_type": "code",
   "execution_count": 4,
   "metadata": {
    "code_folding": [
     8
    ],
    "collapsed": true
   },
   "outputs": [],
   "source": [
    "#Libraries needed for image handling\n",
    "from scipy.misc import imread,imresize\n",
    "\n",
    "#Constant size (of images) to be used\n",
    "HEIGHT=28\n",
    "WIDTH=28\n",
    "\n",
    "\n",
    "def get_batch(batch_size,num_classes,split):\n",
    "    \n",
    "    #What split are we getting the bacth from \n",
    "    if split=='train':\n",
    "        classes=labels_train\n",
    "    elif split=='val':\n",
    "        classes=labels_val\n",
    "    elif split=='test':\n",
    "        classes=labels_test\n",
    "    else:\n",
    "        print(\"There is not such dataset\")\n",
    "    \n",
    "    # Randomly pick num_classes\n",
    "    selected_indexes = np.random.choice(len(classes),num_classes)\n",
    "    selected_classes = classes[selected_indexes]\n",
    "    \n",
    "    # Get the indexes of all images within the selected classes\n",
    "    if split=='train':\n",
    "        indexes_images=[]\n",
    "        for a_class in selected_classes:\n",
    "            indexes_images += list(np.where(labels_train==a_class)[0])\n",
    "    elif split=='val':\n",
    "        indexes_images=[]\n",
    "        for a_class in selected_classes:\n",
    "            indexes_images += list(np.where(labels_val==a_class)[0])\n",
    "    if split=='test':\n",
    "        indexes_images=[]\n",
    "        for a_class in selected_classes:\n",
    "            indexes_images += list(np.where(labels_test==a_class)[0])\n",
    "    \n",
    "    #Randomnly select batch_size of them\n",
    "    selected_indexes = np.random.choice(indexes_images,batch_size,replace=False)\n",
    "    \n",
    "    \n",
    "    #Get the images and resize them\n",
    "    batch_imgs = np.array([])\n",
    "    if split =='train':\n",
    "        for i in selected_indexes:\n",
    "            img_path=images_train_dic[i]\n",
    "            img_array=imread(img_path,mode='L')\n",
    "            img_array=imresize(img_array,(HEIGHT,WIDTH,1),interp='bicubic')\n",
    "            #Reshape and transpose so it looks like [1,n_channels,height,width]\n",
    "            img_array=img_array.reshape((1,HEIGHT,WIDTH,1)).transpose(0,3,1,2)\n",
    "            if batch_imgs.shape[0]==0: #First image\n",
    "                batch_imgs=img_array\n",
    "            else:\n",
    "                batch_imgs=np.concatenate((batch_imgs,img_array),axis=0)\n",
    "    \n",
    "        #We collect the labels\n",
    "        selected_labels=labels_train[selected_indexes]\n",
    "    \n",
    "    elif split =='val':\n",
    "        for i in selected_indexes:\n",
    "            img_path=images_val_dic[i]\n",
    "            img_array=imread(img_path,mode='L')\n",
    "            img_array=imresize(img_array,(HEIGHT,WIDTH,1),interp='bicubic')\n",
    "            #Reshape and transpose so it looks like [1,n_channels,height,width]\n",
    "            img_array=img_array.reshape((1,HEIGHT,WIDTH,1)).transpose(0,3,1,2)\n",
    "            if batch_imgs.shape[0]==0: #First image\n",
    "                batch_imgs=img_array\n",
    "            else:\n",
    "                batch_imgs=np.concatenate((batch_imgs,img_array),axis=0)\n",
    "    \n",
    "        #We collect the labels\n",
    "        selected_labels=labels_val[selected_indexes]\n",
    "    \n",
    "    if split =='test':\n",
    "        for i in selected_indexes:\n",
    "            img_path=images_test_dic[i]\n",
    "            img_array=imread(img_path,mode='L')\n",
    "            img_array=imresize(img_array,(HEIGHT,WIDTH,1),interp='bicubic')\n",
    "            #Reshape and transpose so it looks like [1,n_channels,height,width]\n",
    "            img_array=img_array.reshape((1,HEIGHT,WIDTH,1)).transpose(0,3,1,2)\n",
    "            if batch_imgs.shape[0]==0: #First image\n",
    "                batch_imgs=img_array\n",
    "            else:\n",
    "                batch_imgs=np.concatenate((batch_imgs,img_array),axis=0)\n",
    "    \n",
    "        #We collect the labels\n",
    "        selected_labels=labels_test[selected_indexes]\n",
    "    \n",
    "    return batch_imgs,selected_labels"
   ]
  },
  {
   "cell_type": "markdown",
   "metadata": {},
   "source": [
    "Now that we can get batches of points to train we go to the fun part: Building the model.\n",
    "\n",
    "# The models\n",
    "\n",
    "\n",
    "\n",
    "As we talk before there will be two models, one associated with the SSVM and the other one with the DLM would be\n",
    "\n",
    "\n",
    "As the number of parameters in each model is quite large, we keep them in a config object, as above we have a generic config object and let a simple inheritance handle each of the cases.\n"
   ]
  },
  {
   "cell_type": "code",
   "execution_count": 5,
   "metadata": {
    "code_folding": [
     0,
     16,
     23
    ],
    "collapsed": true
   },
   "outputs": [],
   "source": [
    "class Config(object):\n",
    "    def __init__(self):\n",
    "        \n",
    "        #Learning rate\n",
    "        self.lr = 0.001\n",
    "          \n",
    "        #Optimization \n",
    "        self.optimizer = \"ADAM\"\n",
    "        self.epsilon = 1\n",
    "        self.alpha = 10\n",
    "        \n",
    "        #Batch \n",
    "        self.batch_size= 16 #128\n",
    "        self.nway = 4# 16 #Number of classes in each batch\n",
    "        \n",
    "\n",
    "class ConfigDLM(Config):\n",
    "    \n",
    "    def __init__(self):  \n",
    "        Config.__init__(self)\n",
    "        self.optimization_framework=\"DLM\"\n",
    "        self.positive_update=True\n",
    "        \n",
    "class ConfigSSVM(Config):\n",
    "    \n",
    "    def __init__(self):  \n",
    "        Config.__init__(self)\n",
    "        self.optimization_framework=\"SSVM\"\n",
    "        "
   ]
  },
  {
   "cell_type": "markdown",
   "metadata": {},
   "source": [
    "And before the models, let's import our Deep Learning library"
   ]
  },
  {
   "cell_type": "code",
   "execution_count": 6,
   "metadata": {
    "collapsed": true
   },
   "outputs": [],
   "source": [
    "import torch\n",
    "import torch.nn as nn\n",
    "from torch.autograd import Variable"
   ]
  },
  {
   "cell_type": "markdown",
   "metadata": {},
   "source": [
    "The model is configured as follows:\n",
    "\n",
    "## The embedding part\n",
    "\n",
    "We start with 4 Layers, each layer consists of a convolution with 64 filters (read out channels), follow by a normalization and a relu activation, to finish the layer we have a max pooling. \n"
   ]
  },
  {
   "cell_type": "code",
   "execution_count": 7,
   "metadata": {
    "code_folding": [
     0
    ],
    "collapsed": true
   },
   "outputs": [],
   "source": [
    "class Model(nn.Module):\n",
    "    def __init__(self,config):\n",
    "        \n",
    "        super(Model,self).__init__()\n",
    "        \n",
    "        self.config=config\n",
    "        self.losses = [] # A list to keep our losses\n",
    "        \n",
    "        #Layers for embedding\n",
    "        self.layer1 = torch.nn.Sequential(\n",
    "            torch.nn.Conv2d(\n",
    "                in_channels=1,\n",
    "                out_channels=64,\n",
    "                kernel_size=[3,3]\n",
    "            ),\n",
    "            torch.nn.BatchNorm2d(64),\n",
    "            torch.nn.ReLU(),\n",
    "            torch.nn.MaxPool2d([2,2],padding=1)\n",
    "        )\n",
    "        \n",
    "        self.layer2= torch.nn.Sequential(\n",
    "            torch.nn.Conv2d(\n",
    "            in_channels=64,\n",
    "            out_channels=64,\n",
    "            kernel_size=[3,3],\n",
    "            ),\n",
    "            torch.nn.BatchNorm2d(64),\n",
    "            torch.nn.ReLU(),\n",
    "            torch.nn.MaxPool2d([2,2],padding=1)\n",
    "        )\n",
    "        \n",
    "        self.layer3= torch.nn.Sequential(\n",
    "            torch.nn.Conv2d(\n",
    "            in_channels=64,\n",
    "            out_channels=64,\n",
    "            kernel_size=[3,3],\n",
    "            ),\n",
    "            torch.nn.BatchNorm2d(64),\n",
    "            torch.nn.ReLU(),\n",
    "            torch.nn.MaxPool2d([2,2],padding=1)\n",
    "        )\n",
    "        \n",
    "        self.layer4= torch.nn.Sequential(\n",
    "            torch.nn.Conv2d(\n",
    "            in_channels=64,\n",
    "            out_channels=64,\n",
    "            kernel_size=[3,3],\n",
    "            ),\n",
    "            torch.nn.BatchNorm2d(64),\n",
    "            torch.nn.ReLU(),\n",
    "            torch.nn.MaxPool2d([2,2],padding=1)\n",
    "        )"
   ]
  },
  {
   "cell_type": "markdown",
   "metadata": {},
   "source": [
    "Since we started with tensors of shape n x 1 x 28 x 28, where n is the number of samples in the batch, we obtain a tensor of size n x 64 x 1 x 1 . We reshape this tensor to get an embedding of size 64 for each image, that is we obtain a tensor of size n x 64.\n"
   ]
  },
  {
   "cell_type": "code",
   "execution_count": 8,
   "metadata": {
    "code_folding": [
     0
    ],
    "collapsed": true
   },
   "outputs": [],
   "source": [
    "def forward(self,x): #Embedding\n",
    "        \n",
    "    # Embedding part 1\n",
    "    x = self.layer1(x)\n",
    "    x = self.layer2(x)\n",
    "    x = self.layer3(x)\n",
    "    x = self.layer4(x)\n",
    "        \n",
    "    # Embedding part 2\n",
    "    embedding = x.view(x.size()[0],-1)\n",
    "\n",
    "    return  embedding\n",
    "\n",
    "# Add method to the class\n",
    "Model.forward = forward"
   ]
  },
  {
   "cell_type": "markdown",
   "metadata": {},
   "source": [
    "## The positive and negative split:\n",
    "\n",
    "Let $\\mathcal{B}=\\{x_1,\\ldots,x_n\\}$ be a batch. If $x_i \\in \\mathcal{B}$ let $c_i$ be the class they belong to. For each $x_i$ We separate the points into the ones in the same class $\\mathcal{P}^{c_i}$ (positive) and the ones in other classes $\\mathcal{N}^{c_i}$ (negative) so that $\\mathcal{B} = \\mathcal{P}^{c_i}\\cup \\mathcal{N}^{c_i}$.\n",
    "    "
   ]
  },
  {
   "cell_type": "code",
   "execution_count": 9,
   "metadata": {
    "code_folding": [
     0
    ],
    "collapsed": true
   },
   "outputs": [],
   "source": [
    "def get_positive_negative_splits(self,batch):\n",
    "        \n",
    "    pos_positions, neg_positions = [],[] #list of lists\n",
    "    pos_sizes, neg_sizes = [], [] # sizes of each pos, neg split\n",
    "\n",
    "    batch_labels = batch[1] \n",
    "    batch_size = len(batch_labels)\n",
    "    \n",
    "    def separate_for_current(current):\n",
    "\n",
    "        current_pos, current_neg =[],[]\n",
    "        current_label = batch_labels[current]\n",
    "\n",
    "        for i in range(batch_size):\n",
    "            if batch_labels[i]==current_label:\n",
    "                current_pos.append(i)\n",
    "            else:\n",
    "                current_neg.append(i)\n",
    "\n",
    "        return current_pos, current_neg\n",
    "\n",
    "    for i in range(batch_size):\n",
    "\n",
    "        current_pos, current_neg = separate_for_current(i)\n",
    "        pos_positions.append(current_pos)\n",
    "        neg_positions.append(current_neg)\n",
    "\n",
    "        pos_sizes.append(len(current_pos))\n",
    "        neg_sizes.append(len(current_neg))\n",
    "\n",
    "\n",
    "    max_positive_length, max_negative_length = \\\n",
    "        max(pos_sizes), max(neg_sizes)\n",
    "\n",
    "    # We pad with zeros so each list has same size\n",
    "    for i in range(batch_size):\n",
    "        pos_positions[i]+=[0]*(max_positive_length-len(pos_positions[i]))\n",
    "        neg_positions[i]+=[0]*(max_negative_length-len(neg_positions[i]))\n",
    "    \n",
    "    return np.array(pos_positions), np.array(neg_positions),\\\n",
    "            np.array(pos_sizes), np.array(neg_sizes)\n",
    "\n",
    "    \n",
    "# Add method to the class\n",
    "Model.get_positive_negative_splits = get_positive_negative_splits\n"
   ]
  },
  {
   "cell_type": "markdown",
   "metadata": {},
   "source": [
    "## The inference part:\n",
    "This is the main computation and needs to be split into different parts:\n",
    "\n",
    "A wraper method (inference) that takes a batch and transforms the data into tensors which are fed to."
   ]
  },
  {
   "cell_type": "code",
   "execution_count": 10,
   "metadata": {
    "code_folding": [
     0
    ],
    "collapsed": true
   },
   "outputs": [],
   "source": [
    "def inference(self,batch):\n",
    "\n",
    "    pos_positions, neg_positions, pos_sizes, \\\n",
    "         neg_sizes = self.get_positive_negative_splits(batch)\n",
    "\n",
    "    batch_X_tensor = torch.from_numpy(batch[0]).float()\n",
    "    batch_X_tensor = Variable(batch_X_tensor,\n",
    "                                             requires_grad=False)\n",
    "\n",
    "\n",
    "    #Send the tensor to computation\n",
    "    mAP_score_std,mAP_score_aug,mAP_score_GT = self.inference_mAP(\n",
    "        batch_X_tensor,\n",
    "        pos_positions,\n",
    "        neg_positions,\n",
    "        pos_sizes,\n",
    "        neg_sizes\n",
    "    )\n",
    "    \n",
    "    return mAP_score_std,mAP_score_aug,mAP_score_GT\n",
    "# Add method to the class\n",
    "Model.inference = inference"
   ]
  },
  {
   "cell_type": "markdown",
   "metadata": {},
   "source": [
    "The method to compute the mAP loss (inference_mAP), this needs to run over each of the samples and do a computation over each of them.\n",
    "    "
   ]
  },
  {
   "cell_type": "code",
   "execution_count": 11,
   "metadata": {
    "code_folding": [
     0
    ],
    "collapsed": true
   },
   "outputs": [],
   "source": [
    "def inference_mAP(self,batch_X,pos_positions,\n",
    "    neg_positions,pos_sizes,neg_sizes):\n",
    "        \n",
    "    batch_size = batch_X.size()[0]\n",
    "\n",
    "    # Embed the batch\n",
    "    emb_X=self.forward(batch_X)\n",
    "\n",
    "    #As we are computing cosine similarity, we normalize the vectors\n",
    "    norms = torch.norm(emb_X,p=2,dim=1)  #.detach()\n",
    "    emb_X = emb_X.div(norms.view([-1,1]))\n",
    "\n",
    " \n",
    "    mAP_score_std=Variable(torch.zeros(1))\n",
    "    mAP_score_aug=Variable(torch.zeros(1))\n",
    "    mAP_score_GT=Variable(torch.zeros(1))\n",
    "\n",
    "    for i in range(batch_size):\n",
    "\n",
    "        current = emb_X[i]\n",
    "        \n",
    "        current_num_positive = int(pos_sizes[i])\n",
    "        current_num_negative = int(neg_sizes[i])\n",
    "        \n",
    "        # We need at least a negative sample\n",
    "        if current_num_negative==0:\n",
    "            continue        \n",
    "\n",
    "    \n",
    "        positive_for_current = \\\n",
    "            emb_X[pos_positions[i][:current_num_positive],:]\n",
    "            \n",
    "        negative_for_current = \\\n",
    "            emb_X[neg_positions[i][:current_num_negative],:]\n",
    "        \n",
    "        phi_pos,phi_neg,AP_score_std,AP_score_aug,AP_score_GT =\\\n",
    "            self.inference_individual(current,\n",
    "                         positive_for_current,negative_for_current,\n",
    "                         current_num_positive,current_num_negative)\n",
    "        \n",
    "        mAP_score_std+=AP_score_std\n",
    "        mAP_score_aug+=AP_score_aug\n",
    "        mAP_score_GT+=AP_score_GT\n",
    "    \n",
    "    #This is not in the paper, but is in their implementation\n",
    "    #it makes sense to normalize so I include it as well.\n",
    "    \n",
    "    mAP_score_std/=float(batch_size)\n",
    "    mAP_score_aug/=float(batch_size)\n",
    "    mAP_score_GT/=float(batch_size)\n",
    "\n",
    "    return mAP_score_std,mAP_score_aug,mAP_score_GT\n",
    "\n",
    "# Add method to the class\n",
    "Model.inference_mAP = inference_mAP"
   ]
  },
  {
   "cell_type": "markdown",
   "metadata": {},
   "source": [
    "A method for doing inference for each data point (inference_individual) in the batch. If the data point is $x_i$, it takes the positive and negative splits and compute the different average precision (AP). Note that for the computation of the augmented one, we followed the same technique as the author and use a dynamic algorithm found in [2], we use the class created by Eleni found [here](https://github.com/eleniTriantafillou/few_shot_mAP_public/blob/master/src/utils/loss_aug_AP.py), we put the code in the utils folder. \n",
    "    "
   ]
  },
  {
   "cell_type": "code",
   "execution_count": 12,
   "metadata": {
    "collapsed": true
   },
   "outputs": [],
   "source": [
    "from utils.loss_aug_AP import LossAugmentedInferenceAP"
   ]
  },
  {
   "cell_type": "code",
   "execution_count": 13,
   "metadata": {
    "code_folding": [
     0
    ],
    "collapsed": true
   },
   "outputs": [],
   "source": [
    "def inference_individual(self,current,\n",
    "                         positive_for_current,negative_for_current,\n",
    "                         current_num_positive,current_num_negative):\n",
    "    \n",
    "    # Compute similarities\n",
    "    S_pos = torch.matmul(current,positive_for_current.t())\n",
    "    S_neg = torch.matmul(current,negative_for_current.t())\n",
    "\n",
    "    # sorts the values of the similarities\n",
    "    phi_pos, _ = S_pos.sort()\n",
    "    phi_neg, _ = S_neg.sort()\n",
    "\n",
    "\n",
    "    #Need to compute three values\n",
    "\n",
    "    # 1. Score of standard inference F_std \n",
    "\n",
    "    #Make them into 2-tensors\n",
    "    phi_pos=phi_pos.view(-1,1) # \"col vector\"\n",
    "    phi_neg=phi_neg.view(1,-1) # \"row vector\"\n",
    "    \n",
    "    # repeat the row vector vertically \n",
    "    # size = current number positive X current number negative\n",
    "    phi_pos_repeated = phi_pos.repeat(1,current_num_negative) \n",
    "\n",
    "    # size = current number positive X current number negative\n",
    "    phi_neg_repeated = phi_neg.repeat(current_num_positive,1)\n",
    "    \n",
    "    # The following matrix encodes which one is greater\n",
    "    Y_ij= (phi_pos_repeated > phi_neg_repeated).float()\n",
    "\n",
    "    #Scale to -1/+1\n",
    "    Y_ij = 2*Y_ij-1\n",
    "\n",
    "    # Finally compute the Score of standard inference\n",
    "    F_std = Y_ij*(phi_pos_repeated-phi_neg_repeated)\n",
    "    AP_score_std = F_std.sum()/float(current_num_positive*current_num_negative)\n",
    "\n",
    "\n",
    "    #2. Score of the Loss-augmeneted inferred ranking\n",
    "    #print(\"LOSS-AUGMENTED NEEDS TO BE DONE\")\n",
    "    \n",
    "    loss_augmented = LossAugmentedInferenceAP(\n",
    "        phi_pos.data.numpy()[0],phi_neg.data.numpy()[0],\n",
    "        self.config.epsilon,\n",
    "        #self.config.positive_update,\n",
    "    )\n",
    "    Y_aug_ij = loss_augmented.ranking\n",
    "    #Y_aug_ij = torch.zeros_like(Y_ij)#PLACEHOLDER\n",
    "    F_aug =Y_aug_ij*(phi_pos_repeated-phi_neg_repeated)\n",
    "    AP_score_aug = F_aug.sum()/float(current_num_positive*current_num_negative)\n",
    "\n",
    "\n",
    "\n",
    "    #3. Score of the groundtruth\n",
    "    Y_GT_ij = torch.ones_like(Y_ij)\n",
    "    F_GT =Y_GT_ij*(phi_pos_repeated-phi_neg_repeated)\n",
    "    AP_score_GT = F_GT.sum()/float(current_num_positive*current_num_negative)\n",
    "        \n",
    "    return phi_pos,phi_neg,AP_score_std,AP_score_aug,AP_score_GT\n",
    "\n",
    "\n",
    "# Add method to the class\n",
    "Model.inference_individual = inference_individual"
   ]
  },
  {
   "cell_type": "markdown",
   "metadata": {},
   "source": [
    "Now that we know how to compute the different values we can compute the loss according to the different frameworks that we are considering"
   ]
  },
  {
   "cell_type": "code",
   "execution_count": 14,
   "metadata": {
    "code_folding": [
     0
    ],
    "collapsed": true
   },
   "outputs": [],
   "source": [
    "def compute_loss(self,mAP_score_std,mAP_score_aug,mAP_score_GT):\n",
    "    \n",
    "    if self.config.optimization_framework == \"SSVM\":\n",
    "        loss = mAP_score_aug*self.config.alpha - mAP_score_GT\n",
    "    \n",
    "    elif self.config.optimization_framework == \"DLM\":\n",
    "        loss = (1/self.config.epsilon)*(\n",
    "            mAP_score_aug*self.config.alpha-mAP_score_std)\n",
    "        if not self.config.positive_update:\n",
    "            loss*=-1\n",
    "    \n",
    "    else:\n",
    "        raise ValueError(\"Unknown optimization framework\")\n",
    "    \n",
    "    return loss\n",
    "\n",
    "# Add method to the class\n",
    "Model.compute_loss = compute_loss"
   ]
  },
  {
   "cell_type": "markdown",
   "metadata": {},
   "source": [
    "This completes the computation of the loss. We are left with creating the trainig schedule, this is much easier since we have kept the information on the config file. "
   ]
  },
  {
   "cell_type": "markdown",
   "metadata": {},
   "source": [
    "# Training\n",
    "\n",
    "We handle the training of the model via a method called train_step."
   ]
  },
  {
   "cell_type": "code",
   "execution_count": 15,
   "metadata": {
    "code_folding": [
     1
    ],
    "collapsed": true
   },
   "outputs": [],
   "source": [
    "from itertools import chain\n",
    "def train_step(self,batch):\n",
    "    lr = self.config.lr\n",
    "    if self.config.optimizer==\"Adam\":\n",
    "        pass\n",
    "    optimizer = torch.optim.Adam(\n",
    "        self.parameters(),lr)\n",
    "#     optimizer.zero_grad()\n",
    "    mAP_score_std,mAP_score_aug,mAP_score_GT=model.inference(batch)\n",
    "    loss= model.compute_loss(mAP_score_std,mAP_score_aug,mAP_score_GT)\n",
    "    loss.backward()\n",
    "    optimizer.step()\n",
    "    self.losses.append(loss)\n",
    "    \n",
    "Model.train_step = train_step"
   ]
  },
  {
   "cell_type": "markdown",
   "metadata": {},
   "source": [
    "Next, we need a method to determine how well we are doing in the training process. \n",
    "\n",
    "# Evaluation\n",
    "\n",
    "We want to check how accurate the model is, we do this in two steps:\n",
    "\n",
    "- First we create the scores for every element in the batch. (eval_mAP method)\n",
    "- Second: we compare how those scores compare with the real result. (apk method)"
   ]
  },
  {
   "cell_type": "code",
   "execution_count": 16,
   "metadata": {
    "code_folding": [
     0,
     51
    ],
    "collapsed": true
   },
   "outputs": [],
   "source": [
    "def eval_mAP(batch, model):\n",
    "    imgs = batch[0]\n",
    "    labels = batch[1]\n",
    "    batch_size = len(labels)\n",
    "    \n",
    "    pos_positions, neg_positions, pos_sizes, neg_sizes = \\\n",
    "        model.get_positive_negative_splits(batch)\n",
    "    \n",
    "    batch_X_tensor = torch.from_numpy(imgs).float()\n",
    "    batch_X_tensor = Variable(batch_X_tensor,\n",
    "                                             requires_grad=False)\n",
    "\n",
    "    emb_X = model.forward(batch_X_tensor)\n",
    "    \n",
    "    query_APs =[]\n",
    "    \n",
    "    for i in range(batch_size):\n",
    "\n",
    "        current = emb_X[i]\n",
    "        \n",
    "        current_num_positive = int(pos_sizes[i])\n",
    "        current_num_negative = int(neg_sizes[i])\n",
    "        \n",
    "        # We need at least a negative sample\n",
    "        if current_num_negative==0:\n",
    "            continue        \n",
    "        \n",
    "        positive_for_current = \\\n",
    "            emb_X[pos_positions[i][:current_num_positive],:]\n",
    "            \n",
    "        negative_for_current = \\\n",
    "            emb_X[neg_positions[i][:current_num_negative],:]\n",
    "            \n",
    "        # Compute similarities\n",
    "        S_pos = torch.matmul(current,positive_for_current.t())\n",
    "        S_neg = torch.matmul(current,negative_for_current.t())\n",
    "\n",
    "        # sorts the values of the similarities\n",
    "        phi_pos, _ = S_pos.sort()\n",
    "        phi_neg, _ = S_neg.sort()\n",
    "        \n",
    "        y_true = torch.cat([torch.ones(phi_pos.shape[0]),torch.zeros(phi_neg.shape[0])])\n",
    "        \n",
    "        y_scores = torch.cat([phi_pos,phi_neg])\n",
    "        \n",
    "        AP = apk(y_true,y_scores)\n",
    "        \n",
    "        query_APs.append(AP)\n",
    "        \n",
    "    return sum(query_APs)/(1+len(query_APs))\n",
    "\n",
    "def apk(y_true,y_scores):\n",
    "    \"\"\"Computes average precision between to list of items\"\"\"\n",
    "    \n",
    "    ranks = y_scores.sort(descending=True)[1].data\n",
    "\n",
    "    actual = y_true[ranks]\n",
    "    predicted = y_scores[ranks]\n",
    "    \n",
    "    score = 0\n",
    "    num_hits = 0\n",
    "    \n",
    "    for i, p in enumerate(y_scores):\n",
    "        if y_true[i]:\n",
    "            num_hits+=1\n",
    "            score+=num_hits/(i+1)\n",
    "    num_relevant = y_true.sum()\n",
    "    \n",
    "    if num_relevant>0:\n",
    "        AP = score/num_relevant\n",
    "    else:\n",
    "        AP = None\n",
    "    \n",
    "    return AP"
   ]
  },
  {
   "cell_type": "markdown",
   "metadata": {
    "collapsed": true
   },
   "source": [
    "Now, to the last step, running it. Let's cross our fingers and see how it goes. "
   ]
  },
  {
   "cell_type": "markdown",
   "metadata": {},
   "source": [
    "# Running \n",
    "\n",
    "We then instiatate our config and our model "
   ]
  },
  {
   "cell_type": "code",
   "execution_count": 17,
   "metadata": {
    "collapsed": true
   },
   "outputs": [],
   "source": [
    "configDLM= ConfigDLM()\n",
    "model = Model(configDLM)"
   ]
  },
  {
   "cell_type": "code",
   "execution_count": 18,
   "metadata": {
    "collapsed": true
   },
   "outputs": [],
   "source": [
    "model = torch.load(\"./few_shots_model_258.pickle\")"
   ]
  },
  {
   "cell_type": "markdown",
   "metadata": {},
   "source": [
    "And train for a number of epochs"
   ]
  },
  {
   "cell_type": "code",
   "execution_count": 19,
   "metadata": {
    "code_folding": []
   },
   "outputs": [
    {
     "name": "stdout",
     "output_type": "stream",
     "text": [
      "Epoch 1 of 10\r"
     ]
    },
    {
     "name": "stderr",
     "output_type": "stream",
     "text": [
      "/Users/fperez/anaconda3/lib/python3.6/site-packages/torch/serialization.py:158: UserWarning: Couldn't retrieve source code for container of type Model. It won't be checked for correctness upon loading.\n",
      "  \"type \" + obj.__name__ + \". It won't be checked \"\n"
     ]
    },
    {
     "name": "stdout",
     "output_type": "stream",
     "text": [
      "Epoch 10 of 10\r"
     ]
    }
   ],
   "source": [
    "EPOCHS=10\n",
    "for i in range(EPOCHS):\n",
    "    print('Epoch %d of %d'%(i+1,EPOCHS),end='\\r')\n",
    "    batch=get_batch(128,16,'train')    \n",
    "    model.train_step(batch)\n",
    "    model.losses.append(eval_mAP(get_batch(128,16,'val'),model))\n",
    "    torch.save(model,\"./few_shots_model_%d.pickle\"%len(model.losses))\n",
    "    #if (i+1)%5==0:\n",
    "    #    torch.save(model,\"./few_shots_model_\"+str(i+1)+\".pickle\")"
   ]
  },
  {
   "cell_type": "code",
   "execution_count": 20,
   "metadata": {
    "collapsed": true
   },
   "outputs": [],
   "source": [
    "\n",
    "#torch.save(model,\"./few_shots_model_%d.pickle\"%len(model.losses))"
   ]
  },
  {
   "cell_type": "markdown",
   "metadata": {},
   "source": [
    "And we can plot the accuracy in the validation data."
   ]
  },
  {
   "cell_type": "code",
   "execution_count": 21,
   "metadata": {
    "scrolled": true
   },
   "outputs": [
    {
     "data": {
      "image/png": "[encoded data removed]",
      "text/plain": [
       "<matplotlib.figure.Figure at 0x181a7f6da0>"
      ]
     },
     "metadata": {},
     "output_type": "display_data"
    },
    {
     "ename": "NameError",
     "evalue": "name 'potato' is not defined",
     "output_type": "error",
     "traceback": [
      "\u001b[0;31m---------------------------------------------------------------------------\u001b[0m",
      "\u001b[0;31mNameError\u001b[0m                                 Traceback (most recent call last)",
      "\u001b[0;32m<ipython-input-21-9e1874bdbe19>\u001b[0m in \u001b[0;36m<module>\u001b[0;34m()\u001b[0m\n\u001b[1;32m      2\u001b[0m \u001b[0mplt\u001b[0m\u001b[0;34m.\u001b[0m\u001b[0mplot\u001b[0m\u001b[0;34m(\u001b[0m\u001b[0;34m[\u001b[0m\u001b[0md\u001b[0m\u001b[0;34m.\u001b[0m\u001b[0mdata\u001b[0m \u001b[0;32mfor\u001b[0m \u001b[0md\u001b[0m \u001b[0;32min\u001b[0m \u001b[0mmodel\u001b[0m\u001b[0;34m.\u001b[0m\u001b[0mlosses\u001b[0m\u001b[0;34m[\u001b[0m\u001b[0;34m:\u001b[0m\u001b[0;34m:\u001b[0m\u001b[0;36m2\u001b[0m\u001b[0;34m]\u001b[0m\u001b[0;34m]\u001b[0m\u001b[0;34m)\u001b[0m\u001b[0;34m\u001b[0m\u001b[0m\n\u001b[1;32m      3\u001b[0m \u001b[0mplt\u001b[0m\u001b[0;34m.\u001b[0m\u001b[0mshow\u001b[0m\u001b[0;34m(\u001b[0m\u001b[0;34m)\u001b[0m\u001b[0;34m\u001b[0m\u001b[0m\n\u001b[0;32m----> 4\u001b[0;31m \u001b[0mpotato\u001b[0m\u001b[0;34m\u001b[0m\u001b[0m\n\u001b[0m",
      "\u001b[0;31mNameError\u001b[0m: name 'potato' is not defined"
     ]
    }
   ],
   "source": [
    "import matplotlib.pyplot as plt\n",
    "plt.plot([d.data for d in model.losses[::2]])\n",
    "plt.show()\n",
    "potato"
   ]
  },
  {
   "cell_type": "markdown",
   "metadata": {},
   "source": [
    "# TESTING"
   ]
  },
  {
   "cell_type": "code",
   "execution_count": null,
   "metadata": {
    "collapsed": true
   },
   "outputs": [],
   "source": [
    "configDLM= ConfigDLM()\n",
    "model = Model(configDLM)\n",
    "batch=get_batch(3,4,'train')\n",
    "mAP_score_std,mAP_score_aug,mAP_score_GT=model.inference(batch)\n",
    "loss= model.compute_loss(mAP_score_std,mAP_score_aug,mAP_score_GT)"
   ]
  },
  {
   "cell_type": "code",
   "execution_count": null,
   "metadata": {
    "collapsed": true
   },
   "outputs": [],
   "source": []
  },
  {
   "cell_type": "code",
   "execution_count": null,
   "metadata": {
    "code_folding": [],
    "collapsed": true
   },
   "outputs": [],
   "source": [
    "for i in range(100):\n",
    "    print(\"Epoch %d\"%i,end=\"\\r\")\n",
    "    model.train_step(batch)\n",
    "    model.losses.append(eval_mAP(get_batch(3,4,'val'),model))"
   ]
  },
  {
   "cell_type": "code",
   "execution_count": null,
   "metadata": {
    "collapsed": true
   },
   "outputs": [],
   "source": [
    "import matplotlib.pyplot as plt \n",
    "plt.plot(model.losses[::])\n",
    "plt.show()"
   ]
  },
  {
   "cell_type": "code",
   "execution_count": null,
   "metadata": {
    "collapsed": true
   },
   "outputs": [],
   "source": []
  },
  {
   "cell_type": "code",
   "execution_count": null,
   "metadata": {
    "collapsed": true
   },
   "outputs": [],
   "source": []
  },
  {
   "cell_type": "code",
   "execution_count": null,
   "metadata": {
    "collapsed": true
   },
   "outputs": [],
   "source": []
  },
  {
   "cell_type": "markdown",
   "metadata": {},
   "source": [
    "# **References:**\n",
    "\n",
    "1. Lake, B. M., Salakhutdinov, R., and Tenenbaum, J. B. (2015). Human-level concept learning through probabilistic program induction. Science, 350(6266), 1332-1338.\n",
    "\n",
    "2. Yang Song, Alexander G Schwing, Richard S Zemel, and Raquel Urtasun. Training deep neural networks via direct loss minimization. In Proceedings of The 33rd International Conference on Machine Learning, pages 2169–2177, 2016."
   ]
  },
  {
   "cell_type": "code",
   "execution_count": null,
   "metadata": {
    "collapsed": true
   },
   "outputs": [],
   "source": []
  },
  {
   "cell_type": "code",
   "execution_count": null,
   "metadata": {
    "collapsed": true
   },
   "outputs": [],
   "source": []
  },
  {
   "cell_type": "code",
   "execution_count": null,
   "metadata": {
    "collapsed": true
   },
   "outputs": [],
   "source": []
  },
  {
   "cell_type": "code",
   "execution_count": null,
   "metadata": {
    "collapsed": true
   },
   "outputs": [],
   "source": []
  },
  {
   "cell_type": "code",
   "execution_count": null,
   "metadata": {
    "collapsed": true
   },
   "outputs": [],
   "source": []
  },
  {
   "cell_type": "code",
   "execution_count": null,
   "metadata": {
    "collapsed": true
   },
   "outputs": [],
   "source": []
  },
  {
   "cell_type": "code",
   "execution_count": null,
   "metadata": {
    "collapsed": true
   },
   "outputs": [],
   "source": []
  },
  {
   "cell_type": "code",
   "execution_count": null,
   "metadata": {
    "collapsed": true
   },
   "outputs": [],
   "source": []
  },
  {
   "cell_type": "code",
   "execution_count": null,
   "metadata": {
    "collapsed": true
   },
   "outputs": [],
   "source": []
  },
  {
   "cell_type": "code",
   "execution_count": null,
   "metadata": {
    "collapsed": true
   },
   "outputs": [],
   "source": []
  },
  {
   "cell_type": "code",
   "execution_count": null,
   "metadata": {
    "collapsed": true
   },
   "outputs": [],
   "source": [
    "from qutip import *"
   ]
  },
  {
   "cell_type": "code",
   "execution_count": null,
   "metadata": {
    "collapsed": true
   },
   "outputs": [],
   "source": [
    "num_units=3"
   ]
  },
  {
   "cell_type": "code",
   "execution_count": null,
   "metadata": {
    "collapsed": true
   },
   "outputs": [],
   "source": [
    "H_M = sum([tensor([qeye(2)  if not (i==n) else sigmax() for i in range(num_units)] )for n in range(num_units) ])"
   ]
  },
  {
   "cell_type": "code",
   "execution_count": null,
   "metadata": {
    "collapsed": true
   },
   "outputs": [],
   "source": [
    "H_M"
   ]
  },
  {
   "cell_type": "code",
   "execution_count": null,
   "metadata": {
    "collapsed": true
   },
   "outputs": [],
   "source": [
    "qeye(2)"
   ]
  },
  {
   "cell_type": "code",
   "execution_count": null,
   "metadata": {
    "collapsed": true
   },
   "outputs": [],
   "source": []
  }
 ],
 "metadata": {
  "kernelspec": {
   "display_name": "Python 3",
   "language": "python",
   "name": "python3"
  },
  "language_info": {
   "codemirror_mode": {
    "name": "ipython",
    "version": 3
   },
   "file_extension": ".py",
   "mimetype": "text/x-python",
   "name": "python",
   "nbconvert_exporter": "python",
   "pygments_lexer": "ipython3",
   "version": "3.6.3"
  }
 },
 "nbformat": 4,
 "nbformat_minor": 2
}
